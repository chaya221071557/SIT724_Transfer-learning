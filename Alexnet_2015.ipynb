{
  "nbformat": 4,
  "nbformat_minor": 0,
  "metadata": {
    "colab": {
      "provenance": [],
      "machine_shape": "hm",
      "gpuType": "A100"
    },
    "kernelspec": {
      "name": "python3",
      "display_name": "Python 3"
    },
    "language_info": {
      "name": "python"
    },
    "accelerator": "GPU"
  },
  "cells": [
    {
      "cell_type": "code",
      "execution_count": 1,
      "metadata": {
        "colab": {
          "base_uri": "https://localhost:8080/"
        },
        "id": "akGL8FYmSadp",
        "outputId": "38bf6c8e-f476-4db1-e687-03eb25458430"
      },
      "outputs": [
        {
          "output_type": "stream",
          "name": "stdout",
          "text": [
            "Looking in indexes: https://download.pytorch.org/whl/cu118\n",
            "Requirement already satisfied: torchvision in /usr/local/lib/python3.10/dist-packages (0.18.1+cu121)\n",
            "Requirement already satisfied: numpy in /usr/local/lib/python3.10/dist-packages (from torchvision) (1.26.4)\n",
            "Requirement already satisfied: torch==2.3.1 in /usr/local/lib/python3.10/dist-packages (from torchvision) (2.3.1+cu121)\n",
            "Requirement already satisfied: pillow!=8.3.*,>=5.3.0 in /usr/local/lib/python3.10/dist-packages (from torchvision) (9.4.0)\n",
            "Requirement already satisfied: filelock in /usr/local/lib/python3.10/dist-packages (from torch==2.3.1->torchvision) (3.15.4)\n",
            "Requirement already satisfied: typing-extensions>=4.8.0 in /usr/local/lib/python3.10/dist-packages (from torch==2.3.1->torchvision) (4.12.2)\n",
            "Requirement already satisfied: sympy in /usr/local/lib/python3.10/dist-packages (from torch==2.3.1->torchvision) (1.13.2)\n",
            "Requirement already satisfied: networkx in /usr/local/lib/python3.10/dist-packages (from torch==2.3.1->torchvision) (3.3)\n",
            "Requirement already satisfied: jinja2 in /usr/local/lib/python3.10/dist-packages (from torch==2.3.1->torchvision) (3.1.4)\n",
            "Requirement already satisfied: fsspec in /usr/local/lib/python3.10/dist-packages (from torch==2.3.1->torchvision) (2024.6.1)\n",
            "INFO: pip is looking at multiple versions of torch to determine which version is compatible with other requirements. This could take a while.\n",
            "Collecting torch==2.3.1 (from torchvision)\n",
            "  Downloading https://download.pytorch.org/whl/cu118/torch-2.3.1%2Bcu118-cp310-cp310-linux_x86_64.whl (839.7 MB)\n",
            "\u001b[2K     \u001b[90m━━━━━━━━━━━━━━━━━━━━━━━━━━━━━━━━━━━━━━━━\u001b[0m \u001b[32m839.7/839.7 MB\u001b[0m \u001b[31m2.0 MB/s\u001b[0m eta \u001b[36m0:00:00\u001b[0m\n",
            "\u001b[?25hCollecting nvidia-cuda-nvrtc-cu11==11.8.89 (from torch==2.3.1->torchvision)\n",
            "  Downloading https://download.pytorch.org/whl/cu118/nvidia_cuda_nvrtc_cu11-11.8.89-py3-none-manylinux1_x86_64.whl (23.2 MB)\n",
            "\u001b[2K     \u001b[90m━━━━━━━━━━━━━━━━━━━━━━━━━━━━━━━━━━━━━━━━\u001b[0m \u001b[32m23.2/23.2 MB\u001b[0m \u001b[31m43.6 MB/s\u001b[0m eta \u001b[36m0:00:00\u001b[0m\n",
            "\u001b[?25hCollecting nvidia-cuda-runtime-cu11==11.8.89 (from torch==2.3.1->torchvision)\n",
            "  Downloading https://download.pytorch.org/whl/cu118/nvidia_cuda_runtime_cu11-11.8.89-py3-none-manylinux1_x86_64.whl (875 kB)\n",
            "\u001b[2K     \u001b[90m━━━━━━━━━━━━━━━━━━━━━━━━━━━━━━━━━━━━━━━━\u001b[0m \u001b[32m875.6/875.6 kB\u001b[0m \u001b[31m38.5 MB/s\u001b[0m eta \u001b[36m0:00:00\u001b[0m\n",
            "\u001b[?25hCollecting nvidia-cuda-cupti-cu11==11.8.87 (from torch==2.3.1->torchvision)\n",
            "  Downloading https://download.pytorch.org/whl/cu118/nvidia_cuda_cupti_cu11-11.8.87-py3-none-manylinux1_x86_64.whl (13.1 MB)\n",
            "\u001b[2K     \u001b[90m━━━━━━━━━━━━━━━━━━━━━━━━━━━━━━━━━━━━━━━━\u001b[0m \u001b[32m13.1/13.1 MB\u001b[0m \u001b[31m62.7 MB/s\u001b[0m eta \u001b[36m0:00:00\u001b[0m\n",
            "\u001b[?25hCollecting nvidia-cudnn-cu11==8.7.0.84 (from torch==2.3.1->torchvision)\n",
            "  Downloading https://download.pytorch.org/whl/cu118/nvidia_cudnn_cu11-8.7.0.84-py3-none-manylinux1_x86_64.whl (728.5 MB)\n",
            "\u001b[2K     \u001b[90m━━━━━━━━━━━━━━━━━━━━━━━━━━━━━━━━━━━━━━━━\u001b[0m \u001b[32m728.5/728.5 MB\u001b[0m \u001b[31m2.4 MB/s\u001b[0m eta \u001b[36m0:00:00\u001b[0m\n",
            "\u001b[?25hCollecting nvidia-cublas-cu11==11.11.3.6 (from torch==2.3.1->torchvision)\n",
            "  Downloading https://download.pytorch.org/whl/cu118/nvidia_cublas_cu11-11.11.3.6-py3-none-manylinux1_x86_64.whl (417.9 MB)\n",
            "\u001b[2K     \u001b[90m━━━━━━━━━━━━━━━━━━━━━━━━━━━━━━━━━━━━━━━━\u001b[0m \u001b[32m417.9/417.9 MB\u001b[0m \u001b[31m3.0 MB/s\u001b[0m eta \u001b[36m0:00:00\u001b[0m\n",
            "\u001b[?25hCollecting nvidia-cufft-cu11==10.9.0.58 (from torch==2.3.1->torchvision)\n",
            "  Downloading https://download.pytorch.org/whl/cu118/nvidia_cufft_cu11-10.9.0.58-py3-none-manylinux1_x86_64.whl (168.4 MB)\n",
            "\u001b[2K     \u001b[90m━━━━━━━━━━━━━━━━━━━━━━━━━━━━━━━━━━━━━━━━\u001b[0m \u001b[32m168.4/168.4 MB\u001b[0m \u001b[31m7.0 MB/s\u001b[0m eta \u001b[36m0:00:00\u001b[0m\n",
            "\u001b[?25hCollecting nvidia-curand-cu11==10.3.0.86 (from torch==2.3.1->torchvision)\n",
            "  Downloading https://download.pytorch.org/whl/cu118/nvidia_curand_cu11-10.3.0.86-py3-none-manylinux1_x86_64.whl (58.1 MB)\n",
            "\u001b[2K     \u001b[90m━━━━━━━━━━━━━━━━━━━━━━━━━━━━━━━━━━━━━━━━\u001b[0m \u001b[32m58.1/58.1 MB\u001b[0m \u001b[31m12.1 MB/s\u001b[0m eta \u001b[36m0:00:00\u001b[0m\n",
            "\u001b[?25hCollecting nvidia-cusolver-cu11==11.4.1.48 (from torch==2.3.1->torchvision)\n",
            "  Downloading https://download.pytorch.org/whl/cu118/nvidia_cusolver_cu11-11.4.1.48-py3-none-manylinux1_x86_64.whl (128.2 MB)\n",
            "\u001b[2K     \u001b[90m━━━━━━━━━━━━━━━━━━━━━━━━━━━━━━━━━━━━━━━━\u001b[0m \u001b[32m128.2/128.2 MB\u001b[0m \u001b[31m7.0 MB/s\u001b[0m eta \u001b[36m0:00:00\u001b[0m\n",
            "\u001b[?25hCollecting nvidia-cusparse-cu11==11.7.5.86 (from torch==2.3.1->torchvision)\n",
            "  Downloading https://download.pytorch.org/whl/cu118/nvidia_cusparse_cu11-11.7.5.86-py3-none-manylinux1_x86_64.whl (204.1 MB)\n",
            "\u001b[2K     \u001b[90m━━━━━━━━━━━━━━━━━━━━━━━━━━━━━━━━━━━━━━━━\u001b[0m \u001b[32m204.1/204.1 MB\u001b[0m \u001b[31m5.0 MB/s\u001b[0m eta \u001b[36m0:00:00\u001b[0m\n",
            "\u001b[?25hCollecting nvidia-nccl-cu11==2.20.5 (from torch==2.3.1->torchvision)\n",
            "  Downloading https://download.pytorch.org/whl/cu118/nvidia_nccl_cu11-2.20.5-py3-none-manylinux2014_x86_64.whl (142.9 MB)\n",
            "\u001b[2K     \u001b[90m━━━━━━━━━━━━━━━━━━━━━━━━━━━━━━━━━━━━━━━━\u001b[0m \u001b[32m142.9/142.9 MB\u001b[0m \u001b[31m7.1 MB/s\u001b[0m eta \u001b[36m0:00:00\u001b[0m\n",
            "\u001b[?25hCollecting nvidia-nvtx-cu11==11.8.86 (from torch==2.3.1->torchvision)\n",
            "  Downloading https://download.pytorch.org/whl/cu118/nvidia_nvtx_cu11-11.8.86-py3-none-manylinux1_x86_64.whl (99 kB)\n",
            "\u001b[2K     \u001b[90m━━━━━━━━━━━━━━━━━━━━━━━━━━━━━━━━━━━━━━━━\u001b[0m \u001b[32m99.1/99.1 kB\u001b[0m \u001b[31m7.0 MB/s\u001b[0m eta \u001b[36m0:00:00\u001b[0m\n",
            "\u001b[?25hRequirement already satisfied: triton==2.3.1 in /usr/local/lib/python3.10/dist-packages (from torch==2.3.1->torchvision) (2.3.1)\n",
            "Requirement already satisfied: MarkupSafe>=2.0 in /usr/local/lib/python3.10/dist-packages (from jinja2->torch==2.3.1->torchvision) (2.1.5)\n",
            "Requirement already satisfied: mpmath<1.4,>=1.1.0 in /usr/local/lib/python3.10/dist-packages (from sympy->torch==2.3.1->torchvision) (1.3.0)\n",
            "Installing collected packages: nvidia-nvtx-cu11, nvidia-nccl-cu11, nvidia-cusparse-cu11, nvidia-curand-cu11, nvidia-cufft-cu11, nvidia-cuda-runtime-cu11, nvidia-cuda-nvrtc-cu11, nvidia-cuda-cupti-cu11, nvidia-cublas-cu11, nvidia-cusolver-cu11, nvidia-cudnn-cu11, torch\n",
            "  Attempting uninstall: torch\n",
            "    Found existing installation: torch 2.3.1+cu121\n",
            "    Uninstalling torch-2.3.1+cu121:\n",
            "      Successfully uninstalled torch-2.3.1+cu121\n",
            "Successfully installed nvidia-cublas-cu11-11.11.3.6 nvidia-cuda-cupti-cu11-11.8.87 nvidia-cuda-nvrtc-cu11-11.8.89 nvidia-cuda-runtime-cu11-11.8.89 nvidia-cudnn-cu11-8.7.0.84 nvidia-cufft-cu11-10.9.0.58 nvidia-curand-cu11-10.3.0.86 nvidia-cusolver-cu11-11.4.1.48 nvidia-cusparse-cu11-11.7.5.86 nvidia-nccl-cu11-2.20.5 nvidia-nvtx-cu11-11.8.86 torch-2.3.1+cu118\n"
          ]
        }
      ],
      "source": [
        "!pip install torchvision --index-url https://download.pytorch.org/whl/cu118"
      ]
    },
    {
      "cell_type": "code",
      "source": [
        "from google.colab import drive\n",
        "drive.mount('/content/drive')"
      ],
      "metadata": {
        "colab": {
          "base_uri": "https://localhost:8080/"
        },
        "id": "f3j4lwLwURCD",
        "outputId": "781fe989-4c84-44bb-cdb3-eebd74481e78"
      },
      "execution_count": 2,
      "outputs": [
        {
          "output_type": "stream",
          "name": "stdout",
          "text": [
            "Mounted at /content/drive\n"
          ]
        }
      ]
    },
    {
      "cell_type": "code",
      "source": [
        "!pip uninstall torchvision"
      ],
      "metadata": {
        "colab": {
          "base_uri": "https://localhost:8080/"
        },
        "id": "FvstioG7U3Q8",
        "outputId": "45022006-2f83-47fb-a6a2-b55a1e95175d"
      },
      "execution_count": 4,
      "outputs": [
        {
          "output_type": "stream",
          "name": "stdout",
          "text": [
            "Found existing installation: torchvision 0.18.1+cu121\n",
            "Uninstalling torchvision-0.18.1+cu121:\n",
            "  Would remove:\n",
            "    /usr/local/lib/python3.10/dist-packages/torchvision-0.18.1+cu121.dist-info/*\n",
            "    /usr/local/lib/python3.10/dist-packages/torchvision.libs/libcudart.7ec1eba6.so.12\n",
            "    /usr/local/lib/python3.10/dist-packages/torchvision.libs/libjpeg.ceea7512.so.62\n",
            "    /usr/local/lib/python3.10/dist-packages/torchvision.libs/libnvjpeg.f00ca762.so.12\n",
            "    /usr/local/lib/python3.10/dist-packages/torchvision.libs/libpng16.7f72a3c5.so.16\n",
            "    /usr/local/lib/python3.10/dist-packages/torchvision.libs/libz.4e87b236.so.1\n",
            "    /usr/local/lib/python3.10/dist-packages/torchvision/*\n",
            "Proceed (Y/n)? y\n",
            "  Successfully uninstalled torchvision-0.18.1+cu121\n"
          ]
        }
      ]
    },
    {
      "cell_type": "code",
      "source": [
        "!pip install torchvision --index-url https://download.pytorch.org/whl/cu118"
      ],
      "metadata": {
        "colab": {
          "base_uri": "https://localhost:8080/",
          "height": 964
        },
        "id": "PnBhHoMjU6th",
        "outputId": "8aed4cc9-bad5-4a42-8819-7037b649ec09"
      },
      "execution_count": 5,
      "outputs": [
        {
          "output_type": "stream",
          "name": "stdout",
          "text": [
            "Looking in indexes: https://download.pytorch.org/whl/cu118\n",
            "Collecting torchvision\n",
            "  Downloading https://download.pytorch.org/whl/cu118/torchvision-0.19.0%2Bcu118-cp310-cp310-linux_x86_64.whl (6.3 MB)\n",
            "\u001b[2K     \u001b[90m━━━━━━━━━━━━━━━━━━━━━━━━━━━━━━━━━━━━━━━━\u001b[0m \u001b[32m6.3/6.3 MB\u001b[0m \u001b[31m41.3 MB/s\u001b[0m eta \u001b[36m0:00:00\u001b[0m\n",
            "\u001b[?25hRequirement already satisfied: numpy in /usr/local/lib/python3.10/dist-packages (from torchvision) (1.26.4)\n",
            "Collecting torch==2.4.0 (from torchvision)\n",
            "  Downloading https://download.pytorch.org/whl/cu118/torch-2.4.0%2Bcu118-cp310-cp310-linux_x86_64.whl (857.7 MB)\n",
            "\u001b[2K     \u001b[90m━━━━━━━━━━━━━━━━━━━━━━━━━━━━━━━━━━━━━━━━\u001b[0m \u001b[32m857.7/857.7 MB\u001b[0m \u001b[31m875.5 kB/s\u001b[0m eta \u001b[36m0:00:00\u001b[0m\n",
            "\u001b[?25hRequirement already satisfied: pillow!=8.3.*,>=5.3.0 in /usr/local/lib/python3.10/dist-packages (from torchvision) (9.4.0)\n",
            "Requirement already satisfied: filelock in /usr/local/lib/python3.10/dist-packages (from torch==2.4.0->torchvision) (3.15.4)\n",
            "Requirement already satisfied: typing-extensions>=4.8.0 in /usr/local/lib/python3.10/dist-packages (from torch==2.4.0->torchvision) (4.12.2)\n",
            "Requirement already satisfied: sympy in /usr/local/lib/python3.10/dist-packages (from torch==2.4.0->torchvision) (1.13.2)\n",
            "Requirement already satisfied: networkx in /usr/local/lib/python3.10/dist-packages (from torch==2.4.0->torchvision) (3.3)\n",
            "Requirement already satisfied: jinja2 in /usr/local/lib/python3.10/dist-packages (from torch==2.4.0->torchvision) (3.1.4)\n",
            "Requirement already satisfied: fsspec in /usr/local/lib/python3.10/dist-packages (from torch==2.4.0->torchvision) (2024.6.1)\n",
            "Requirement already satisfied: nvidia-cuda-nvrtc-cu11==11.8.89 in /usr/local/lib/python3.10/dist-packages (from torch==2.4.0->torchvision) (11.8.89)\n",
            "Requirement already satisfied: nvidia-cuda-runtime-cu11==11.8.89 in /usr/local/lib/python3.10/dist-packages (from torch==2.4.0->torchvision) (11.8.89)\n",
            "Requirement already satisfied: nvidia-cuda-cupti-cu11==11.8.87 in /usr/local/lib/python3.10/dist-packages (from torch==2.4.0->torchvision) (11.8.87)\n",
            "Collecting nvidia-cudnn-cu11==9.1.0.70 (from torch==2.4.0->torchvision)\n",
            "  Downloading https://download.pytorch.org/whl/cu118/nvidia_cudnn_cu11-9.1.0.70-py3-none-manylinux2014_x86_64.whl (663.9 MB)\n",
            "\u001b[2K     \u001b[90m━━━━━━━━━━━━━━━━━━━━━━━━━━━━━━━━━━━━━━━━\u001b[0m \u001b[32m663.9/663.9 MB\u001b[0m \u001b[31m2.9 MB/s\u001b[0m eta \u001b[36m0:00:00\u001b[0m\n",
            "\u001b[?25hRequirement already satisfied: nvidia-cublas-cu11==11.11.3.6 in /usr/local/lib/python3.10/dist-packages (from torch==2.4.0->torchvision) (11.11.3.6)\n",
            "Requirement already satisfied: nvidia-cufft-cu11==10.9.0.58 in /usr/local/lib/python3.10/dist-packages (from torch==2.4.0->torchvision) (10.9.0.58)\n",
            "Requirement already satisfied: nvidia-curand-cu11==10.3.0.86 in /usr/local/lib/python3.10/dist-packages (from torch==2.4.0->torchvision) (10.3.0.86)\n",
            "Requirement already satisfied: nvidia-cusolver-cu11==11.4.1.48 in /usr/local/lib/python3.10/dist-packages (from torch==2.4.0->torchvision) (11.4.1.48)\n",
            "Requirement already satisfied: nvidia-cusparse-cu11==11.7.5.86 in /usr/local/lib/python3.10/dist-packages (from torch==2.4.0->torchvision) (11.7.5.86)\n",
            "Requirement already satisfied: nvidia-nccl-cu11==2.20.5 in /usr/local/lib/python3.10/dist-packages (from torch==2.4.0->torchvision) (2.20.5)\n",
            "Requirement already satisfied: nvidia-nvtx-cu11==11.8.86 in /usr/local/lib/python3.10/dist-packages (from torch==2.4.0->torchvision) (11.8.86)\n",
            "Collecting triton==3.0.0 (from torch==2.4.0->torchvision)\n",
            "  Downloading https://download.pytorch.org/whl/triton-3.0.0-1-cp310-cp310-manylinux2014_x86_64.manylinux_2_17_x86_64.whl (209.4 MB)\n",
            "\u001b[2K     \u001b[90m━━━━━━━━━━━━━━━━━━━━━━━━━━━━━━━━━━━━━━━━\u001b[0m \u001b[32m209.4/209.4 MB\u001b[0m \u001b[31m5.1 MB/s\u001b[0m eta \u001b[36m0:00:00\u001b[0m\n",
            "\u001b[?25hRequirement already satisfied: MarkupSafe>=2.0 in /usr/local/lib/python3.10/dist-packages (from jinja2->torch==2.4.0->torchvision) (2.1.5)\n",
            "Requirement already satisfied: mpmath<1.4,>=1.1.0 in /usr/local/lib/python3.10/dist-packages (from sympy->torch==2.4.0->torchvision) (1.3.0)\n",
            "Installing collected packages: triton, nvidia-cudnn-cu11, torch, torchvision\n",
            "  Attempting uninstall: triton\n",
            "    Found existing installation: triton 2.3.1\n",
            "    Uninstalling triton-2.3.1:\n",
            "      Successfully uninstalled triton-2.3.1\n",
            "  Attempting uninstall: nvidia-cudnn-cu11\n",
            "    Found existing installation: nvidia-cudnn-cu11 8.7.0.84\n",
            "    Uninstalling nvidia-cudnn-cu11-8.7.0.84:\n",
            "      Successfully uninstalled nvidia-cudnn-cu11-8.7.0.84\n",
            "  Attempting uninstall: torch\n",
            "    Found existing installation: torch 2.3.1+cu118\n",
            "    Uninstalling torch-2.3.1+cu118:\n",
            "      Successfully uninstalled torch-2.3.1+cu118\n",
            "\u001b[31mERROR: pip's dependency resolver does not currently take into account all the packages that are installed. This behaviour is the source of the following dependency conflicts.\n",
            "torchaudio 2.3.1+cu121 requires torch==2.3.1, but you have torch 2.4.0+cu118 which is incompatible.\u001b[0m\u001b[31m\n",
            "\u001b[0mSuccessfully installed nvidia-cudnn-cu11-9.1.0.70 torch-2.4.0+cu118 torchvision-0.19.0+cu118 triton-3.0.0\n"
          ]
        },
        {
          "output_type": "display_data",
          "data": {
            "application/vnd.colab-display-data+json": {
              "pip_warning": {
                "packages": [
                  "torch",
                  "torchgen"
                ]
              },
              "id": "069bd380a8f24b38b6b7ff361255f579"
            }
          },
          "metadata": {}
        }
      ]
    },
    {
      "cell_type": "code",
      "source": [
        "import torch\n",
        "import torch.nn as nn\n",
        "import torch.optim as optim\n",
        "from torch.utils.data import DataLoader, Dataset\n",
        "from torchvision import datasets, models, transforms\n",
        "from sklearn.metrics import precision_score, recall_score, f1_score\n",
        "from PIL import Image\n",
        "import os\n",
        "from collections import Counter"
      ],
      "metadata": {
        "id": "pvPyKfPVUvq4"
      },
      "execution_count": 3,
      "outputs": []
    },
    {
      "cell_type": "code",
      "source": [
        "device = torch.device('cuda' if torch.cuda.is_available() else 'cpu')\n",
        "print(f\"Using device: {device}\")"
      ],
      "metadata": {
        "colab": {
          "base_uri": "https://localhost:8080/"
        },
        "id": "QMcQYRKQVmly",
        "outputId": "c05b64c2-c2d8-4f66-ea69-6618a6dad2e3"
      },
      "execution_count": 4,
      "outputs": [
        {
          "output_type": "stream",
          "name": "stdout",
          "text": [
            "Using device: cuda\n"
          ]
        }
      ]
    },
    {
      "cell_type": "code",
      "source": [
        "from google.colab import drive\n",
        "drive.mount('/content/drive')"
      ],
      "metadata": {
        "colab": {
          "base_uri": "https://localhost:8080/"
        },
        "id": "R9h4s3XJV5ZC",
        "outputId": "c23a9066-7113-425d-c6f3-8de753ff608b"
      },
      "execution_count": 6,
      "outputs": [
        {
          "output_type": "stream",
          "name": "stdout",
          "text": [
            "Mounted at /content/drive\n"
          ]
        }
      ]
    },
    {
      "cell_type": "code",
      "source": [
        "num_classes = 9  # Number of classes in the dataset\n",
        "num_epochs = 25\n",
        "batch_size = 32\n",
        "learning_rate = 0.001"
      ],
      "metadata": {
        "id": "cQg0OtgsWe44"
      },
      "execution_count": 7,
      "outputs": []
    },
    {
      "cell_type": "code",
      "source": [
        "data_transforms = {\n",
        "    'train': transforms.Compose([\n",
        "        transforms.Resize((224, 224)),\n",
        "        transforms.RandomHorizontalFlip(),\n",
        "        transforms.RandomRotation(15),\n",
        "        transforms.ToTensor(),\n",
        "        transforms.Normalize([0.485, 0.456, 0.406], [0.229, 0.224, 0.225])\n",
        "    ]),\n",
        "    'val': transforms.Compose([\n",
        "        transforms.Resize((224, 224)),\n",
        "        transforms.ToTensor(),\n",
        "        transforms.Normalize([0.485, 0.456, 0.406], [0.229, 0.224, 0.225])\n",
        "    ]),\n",
        "}"
      ],
      "metadata": {
        "id": "sBBq8QP8XSeX"
      },
      "execution_count": 8,
      "outputs": []
    },
    {
      "cell_type": "code",
      "source": [
        "# Data directories\n",
        "data_dir = '/content/drive/MyDrive/data_224_g'  # Replacing with the dataset path\n",
        "train_dir = os.path.join(data_dir, 'train')\n",
        "val_dir = os.path.join(data_dir, 'val')\n"
      ],
      "metadata": {
        "id": "jwK1xlgTXVPy"
      },
      "execution_count": 11,
      "outputs": []
    },
    {
      "cell_type": "code",
      "source": [
        "image_datasets = {\n",
        "    'train': datasets.ImageFolder(train_dir, transform=data_transforms['train']),\n",
        "    'val': datasets.ImageFolder(val_dir, transform=data_transforms['val'])\n",
        "}\n"
      ],
      "metadata": {
        "id": "kmdDFkX3Xbja"
      },
      "execution_count": 15,
      "outputs": []
    },
    {
      "cell_type": "code",
      "source": [
        "dataloaders = {\n",
        "    'train': DataLoader(image_datasets['train'], batch_size=batch_size, shuffle=True, num_workers=4),\n",
        "    'val': DataLoader(image_datasets['val'], batch_size=batch_size, shuffle=False, num_workers=4)\n",
        "}\n",
        "\n",
        "# Load pre-trained AlexNet model\n",
        "model = models.alexnet(weights=models.AlexNet_Weights.DEFAULT)"
      ],
      "metadata": {
        "id": "vuviZveQYZJ8"
      },
      "execution_count": 21,
      "outputs": []
    },
    {
      "cell_type": "code",
      "source": [
        "# Freeze all the layers except the last fully connected layers\n",
        "for param in model.parameters():\n",
        "    param.requires_grad = False"
      ],
      "metadata": {
        "id": "qHwpCV9XYrSl"
      },
      "execution_count": 22,
      "outputs": []
    },
    {
      "cell_type": "code",
      "source": [
        "\n",
        "# Modify the classifier to match the number of classes in the dataset and unfreeze some layers\n",
        "model.classifier[6] = nn.Linear(model.classifier[6].in_features, num_classes)\n",
        "\n",
        "# Unfreeze the last convolutional block for fine-tuning\n",
        "for param in model.features[10:].parameters():\n",
        "    param.requires_grad = True"
      ],
      "metadata": {
        "id": "-t9C7A5VYu30"
      },
      "execution_count": 23,
      "outputs": []
    },
    {
      "cell_type": "code",
      "source": [
        "# Move model to device\n",
        "model = model.to(device)\n",
        "\n",
        "# Loss and optimizer\n",
        "criterion = nn.CrossEntropyLoss()\n",
        "optimizer = optim.Adam(model.parameters(), lr=learning_rate)"
      ],
      "metadata": {
        "id": "55xR1FN-Yx7L"
      },
      "execution_count": 24,
      "outputs": []
    },
    {
      "cell_type": "code",
      "source": [
        "import time\n",
        "\n",
        "# Initialize variables to store the best metrics\n",
        "best_metrics = {\n",
        "    'epoch': -1,\n",
        "    'accuracy': 0.0,\n",
        "    'precision': 0.0,\n",
        "    'recall': 0.0,\n",
        "    'f1_score': 0.0,\n",
        "    'loss': float('inf')\n",
        "}\n",
        "\n",
        "start_time = time.time()\n",
        "\n",
        "# Training and validation\n",
        "for epoch in range(num_epochs):\n",
        "    print(f'Epoch {epoch+1}/{num_epochs}')\n",
        "    print('-' * 10)\n",
        "\n",
        "    # Each epoch has a training and validation phase\n",
        "    for phase in ['train', 'val']:\n",
        "        if phase == 'train':\n",
        "            model.train()  # Set model to training mode\n",
        "        else:\n",
        "            model.eval()   # Set model to evaluate mode\n",
        "\n",
        "        running_loss = 0.0\n",
        "        running_corrects = 0\n",
        "        all_labels = []\n",
        "        all_preds = []\n",
        "\n",
        "        # Iterate over data\n",
        "        for inputs, labels in dataloaders[phase]:\n",
        "            inputs = inputs.to(device)\n",
        "            labels = labels.to(device)\n",
        "\n",
        "            # Zero the parameter gradients\n",
        "            optimizer.zero_grad()\n",
        "\n",
        "            # Forward\n",
        "            with torch.set_grad_enabled(phase == 'train'):\n",
        "                outputs = model(inputs)\n",
        "                _, preds = torch.max(outputs, 1)\n",
        "                loss = criterion(outputs, labels)\n",
        "\n",
        "                # Backward + optimize only if in training phase\n",
        "                if phase == 'train':\n",
        "                    loss.backward()\n",
        "                    optimizer.step()\n",
        "\n",
        "            # Statistics\n",
        "            running_loss += loss.item() * inputs.size(0)\n",
        "            running_corrects += torch.sum(preds == labels.data)\n",
        "            all_labels.extend(labels.cpu().numpy())\n",
        "            all_preds.extend(preds.cpu().numpy())\n",
        "\n",
        "        epoch_loss = running_loss / len(image_datasets[phase])\n",
        "        epoch_acc = running_corrects.double() / len(image_datasets[phase])\n",
        "\n",
        "        # Calculate precision, recall, and F1 score\n",
        "        epoch_precision = precision_score(all_labels, all_preds, average='weighted')\n",
        "        epoch_recall = recall_score(all_labels, all_preds, average='weighted')\n",
        "        epoch_f1 = f1_score(all_labels, all_preds, average='weighted')\n",
        "\n",
        "        print(f'{phase} Loss: {epoch_loss:.4f} Acc: {epoch_acc:.4f}')\n",
        "        print(f'{phase} Precision: {epoch_precision:.4f} Recall: {epoch_recall:.4f} F1 Score: {epoch_f1:.4f}')\n",
        "\n",
        "        # Store the best metrics based on validation accuracy\n",
        "        if phase == 'val' and epoch_acc > best_metrics['accuracy']:\n",
        "            best_metrics = {\n",
        "                'epoch': epoch + 1,\n",
        "                'accuracy': epoch_acc.item(),\n",
        "                'precision': epoch_precision,\n",
        "                'recall': epoch_recall,\n",
        "                'f1_score': epoch_f1,\n",
        "                'loss': epoch_loss\n",
        "            }\n",
        "\n",
        "elapsed_time = time.time() - start_time\n",
        "elapsed_mins = int(elapsed_time / 60)\n",
        "elapsed_secs = int(elapsed_time % 60)\n",
        "\n",
        "print('Training complete')\n",
        "print(f'Training complete in {elapsed_mins}m {elapsed_secs}s')\n",
        "print(f'Best val Acc: {best_metrics[\"accuracy\"]:.4f}')\n",
        "print(f'Best val Loss: {best_metrics[\"loss\"]:.4f}')\n",
        "print(f'Best val Precision: {best_metrics[\"precision\"]:.4f}')\n",
        "print(f'Best val Recall: {best_metrics[\"recall\"]:.4f}')\n",
        "print(f'Best val F1 Score: {best_metrics[\"f1_score\"]:.4f}')\n"
      ],
      "metadata": {
        "colab": {
          "base_uri": "https://localhost:8080/"
        },
        "id": "NEHum_cqY2q7",
        "outputId": "0da51ca7-23aa-4164-fdaf-db69631c7b85"
      },
      "execution_count": 27,
      "outputs": [
        {
          "output_type": "stream",
          "name": "stdout",
          "text": [
            "Epoch 1/25\n",
            "----------\n",
            "train Loss: 0.0653 Acc: 0.9804\n",
            "train Precision: 0.9804 Recall: 0.9804 F1 Score: 0.9804\n",
            "val Loss: 0.1765 Acc: 0.9665\n",
            "val Precision: 0.9666 Recall: 0.9665 F1 Score: 0.9663\n",
            "Epoch 2/25\n",
            "----------\n",
            "train Loss: 0.0612 Acc: 0.9820\n",
            "train Precision: 0.9821 Recall: 0.9820 F1 Score: 0.9820\n",
            "val Loss: 0.1676 Acc: 0.9715\n",
            "val Precision: 0.9720 Recall: 0.9715 F1 Score: 0.9716\n",
            "Epoch 3/25\n",
            "----------\n",
            "train Loss: 0.0601 Acc: 0.9812\n",
            "train Precision: 0.9813 Recall: 0.9812 F1 Score: 0.9812\n",
            "val Loss: 0.1435 Acc: 0.9729\n",
            "val Precision: 0.9731 Recall: 0.9729 F1 Score: 0.9729\n",
            "Epoch 4/25\n",
            "----------\n",
            "train Loss: 0.0567 Acc: 0.9830\n",
            "train Precision: 0.9830 Recall: 0.9830 F1 Score: 0.9829\n",
            "val Loss: 0.1470 Acc: 0.9756\n",
            "val Precision: 0.9760 Recall: 0.9756 F1 Score: 0.9757\n",
            "Epoch 5/25\n",
            "----------\n",
            "train Loss: 0.0620 Acc: 0.9809\n",
            "train Precision: 0.9808 Recall: 0.9809 F1 Score: 0.9809\n",
            "val Loss: 0.1778 Acc: 0.9710\n",
            "val Precision: 0.9717 Recall: 0.9710 F1 Score: 0.9712\n",
            "Epoch 6/25\n",
            "----------\n",
            "train Loss: 0.0578 Acc: 0.9831\n",
            "train Precision: 0.9831 Recall: 0.9831 F1 Score: 0.9831\n",
            "val Loss: 0.1762 Acc: 0.9747\n",
            "val Precision: 0.9748 Recall: 0.9747 F1 Score: 0.9747\n",
            "Epoch 7/25\n",
            "----------\n",
            "train Loss: 0.0619 Acc: 0.9828\n",
            "train Precision: 0.9828 Recall: 0.9828 F1 Score: 0.9828\n",
            "val Loss: 0.1427 Acc: 0.9761\n",
            "val Precision: 0.9763 Recall: 0.9761 F1 Score: 0.9761\n",
            "Epoch 8/25\n",
            "----------\n",
            "train Loss: 0.0448 Acc: 0.9855\n",
            "train Precision: 0.9855 Recall: 0.9855 F1 Score: 0.9855\n",
            "val Loss: 0.1266 Acc: 0.9747\n",
            "val Precision: 0.9751 Recall: 0.9747 F1 Score: 0.9748\n",
            "Epoch 9/25\n",
            "----------\n",
            "train Loss: 0.0443 Acc: 0.9856\n",
            "train Precision: 0.9856 Recall: 0.9856 F1 Score: 0.9856\n",
            "val Loss: 0.1494 Acc: 0.9738\n",
            "val Precision: 0.9739 Recall: 0.9738 F1 Score: 0.9737\n",
            "Epoch 10/25\n",
            "----------\n",
            "train Loss: 0.0459 Acc: 0.9869\n",
            "train Precision: 0.9869 Recall: 0.9869 F1 Score: 0.9869\n",
            "val Loss: 0.1608 Acc: 0.9733\n",
            "val Precision: 0.9737 Recall: 0.9733 F1 Score: 0.9733\n",
            "Epoch 11/25\n",
            "----------\n",
            "train Loss: 0.0541 Acc: 0.9838\n",
            "train Precision: 0.9837 Recall: 0.9838 F1 Score: 0.9838\n",
            "val Loss: 0.1669 Acc: 0.9756\n",
            "val Precision: 0.9758 Recall: 0.9756 F1 Score: 0.9756\n",
            "Epoch 12/25\n",
            "----------\n",
            "train Loss: 0.0555 Acc: 0.9847\n",
            "train Precision: 0.9847 Recall: 0.9847 F1 Score: 0.9847\n",
            "val Loss: 0.1449 Acc: 0.9770\n",
            "val Precision: 0.9773 Recall: 0.9770 F1 Score: 0.9771\n",
            "Epoch 13/25\n",
            "----------\n",
            "train Loss: 0.0584 Acc: 0.9845\n",
            "train Precision: 0.9844 Recall: 0.9845 F1 Score: 0.9844\n",
            "val Loss: 0.1674 Acc: 0.9743\n",
            "val Precision: 0.9744 Recall: 0.9743 F1 Score: 0.9742\n",
            "Epoch 14/25\n",
            "----------\n",
            "train Loss: 0.0446 Acc: 0.9869\n",
            "train Precision: 0.9869 Recall: 0.9869 F1 Score: 0.9869\n",
            "val Loss: 0.1731 Acc: 0.9784\n",
            "val Precision: 0.9786 Recall: 0.9784 F1 Score: 0.9783\n",
            "Epoch 15/25\n",
            "----------\n",
            "train Loss: 0.0601 Acc: 0.9843\n",
            "train Precision: 0.9844 Recall: 0.9843 F1 Score: 0.9843\n",
            "val Loss: 0.2087 Acc: 0.9678\n",
            "val Precision: 0.9679 Recall: 0.9678 F1 Score: 0.9676\n",
            "Epoch 16/25\n",
            "----------\n",
            "train Loss: 0.0649 Acc: 0.9816\n",
            "train Precision: 0.9816 Recall: 0.9816 F1 Score: 0.9816\n",
            "val Loss: 0.1621 Acc: 0.9729\n",
            "val Precision: 0.9731 Recall: 0.9729 F1 Score: 0.9729\n",
            "Epoch 17/25\n",
            "----------\n",
            "train Loss: 0.0772 Acc: 0.9792\n",
            "train Precision: 0.9792 Recall: 0.9792 F1 Score: 0.9792\n",
            "val Loss: 0.2429 Acc: 0.9697\n",
            "val Precision: 0.9701 Recall: 0.9697 F1 Score: 0.9696\n",
            "Epoch 18/25\n",
            "----------\n",
            "train Loss: 0.0758 Acc: 0.9811\n",
            "train Precision: 0.9811 Recall: 0.9811 F1 Score: 0.9811\n",
            "val Loss: 0.1863 Acc: 0.9747\n",
            "val Precision: 0.9754 Recall: 0.9747 F1 Score: 0.9748\n",
            "Epoch 19/25\n",
            "----------\n",
            "train Loss: 0.0610 Acc: 0.9839\n",
            "train Precision: 0.9838 Recall: 0.9839 F1 Score: 0.9838\n",
            "val Loss: 0.1584 Acc: 0.9766\n",
            "val Precision: 0.9769 Recall: 0.9766 F1 Score: 0.9766\n",
            "Epoch 20/25\n",
            "----------\n",
            "train Loss: 0.0613 Acc: 0.9845\n",
            "train Precision: 0.9845 Recall: 0.9845 F1 Score: 0.9845\n",
            "val Loss: 0.2031 Acc: 0.9761\n",
            "val Precision: 0.9764 Recall: 0.9761 F1 Score: 0.9761\n",
            "Epoch 21/25\n",
            "----------\n",
            "train Loss: 0.0552 Acc: 0.9863\n",
            "train Precision: 0.9863 Recall: 0.9863 F1 Score: 0.9863\n",
            "val Loss: 0.1652 Acc: 0.9766\n",
            "val Precision: 0.9767 Recall: 0.9766 F1 Score: 0.9766\n",
            "Epoch 22/25\n",
            "----------\n",
            "train Loss: 0.0417 Acc: 0.9876\n",
            "train Precision: 0.9876 Recall: 0.9876 F1 Score: 0.9876\n",
            "val Loss: 0.2138 Acc: 0.9706\n",
            "val Precision: 0.9709 Recall: 0.9706 F1 Score: 0.9707\n",
            "Epoch 23/25\n",
            "----------\n",
            "train Loss: 0.0410 Acc: 0.9880\n",
            "train Precision: 0.9880 Recall: 0.9880 F1 Score: 0.9880\n",
            "val Loss: 0.1924 Acc: 0.9729\n",
            "val Precision: 0.9733 Recall: 0.9729 F1 Score: 0.9730\n",
            "Epoch 24/25\n",
            "----------\n",
            "train Loss: 0.0474 Acc: 0.9872\n",
            "train Precision: 0.9872 Recall: 0.9872 F1 Score: 0.9872\n",
            "val Loss: 0.2008 Acc: 0.9770\n",
            "val Precision: 0.9772 Recall: 0.9770 F1 Score: 0.9770\n",
            "Epoch 25/25\n",
            "----------\n",
            "train Loss: 0.0615 Acc: 0.9850\n",
            "train Precision: 0.9850 Recall: 0.9850 F1 Score: 0.9850\n",
            "val Loss: 0.1861 Acc: 0.9770\n",
            "val Precision: 0.9775 Recall: 0.9770 F1 Score: 0.9770\n",
            "Training complete\n",
            "Training complete in 9m 11s\n",
            "Best val Acc: 0.9784\n",
            "Best val Loss: 0.1731\n",
            "Best val Precision: 0.9786\n",
            "Best val Recall: 0.9784\n",
            "Best val F1 Score: 0.9783\n"
          ]
        }
      ]
    },
    {
      "cell_type": "code",
      "source": [
        "from PIL import Image\n",
        "\n",
        "# Prediction function\n",
        "def predict_image(image_path, model, class_names):\n",
        "    model.eval()\n",
        "\n",
        "    # Image transformations\n",
        "    transform = transforms.Compose([\n",
        "        transforms.Resize((224, 224)),\n",
        "        transforms.ToTensor(),\n",
        "        transforms.Normalize([0.485, 0.456, 0.406], [0.229, 0.224, 0.225])\n",
        "    ])\n",
        "\n",
        "    # Load image and apply transformations\n",
        "    image = Image.open(image_path).convert('RGB')  # Convert to RGB to ensure 3 channels\n",
        "    image = transform(image).unsqueeze(0)  # Add batch dimension\n",
        "\n",
        "    # Move image to device\n",
        "    image = image.to(device)\n",
        "\n",
        "    # Make prediction\n",
        "    with torch.no_grad():\n",
        "        outputs = model(image)\n",
        "        _, preds = torch.max(outputs, 1)\n",
        "\n",
        "    # Get the class name\n",
        "    predicted_class = class_names[preds.item()]\n",
        "    return predicted_class\n",
        "\n",
        "# Example usage\n",
        "class_names = image_datasets['train'].classes  # Get class names from the training dataset\n",
        "image_path = '/content/drive/MyDrive/data_224_g/val/Obfuscator.ACY/HMY_0BFIPv1rO83whtpMYyAs_8.png'  # Replace with the path to your image\n",
        "predicted_class = predict_image(image_path, model, class_names)\n",
        "print(f'Predicted class: {predicted_class}')\n"
      ],
      "metadata": {
        "colab": {
          "base_uri": "https://localhost:8080/"
        },
        "id": "vYKn6WnGo2Qb",
        "outputId": "25281ed0-ae9b-420c-f77d-1a065047c201"
      },
      "execution_count": 30,
      "outputs": [
        {
          "output_type": "stream",
          "name": "stdout",
          "text": [
            "Predicted class: Obfuscator.ACY\n"
          ]
        }
      ]
    }
  ]
}